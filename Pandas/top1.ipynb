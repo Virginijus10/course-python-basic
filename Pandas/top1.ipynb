{
 "cells": [
  {
   "cell_type": "code",
   "execution_count": null,
   "metadata": {},
   "outputs": [],
   "source": [
    "Track.Name\tArtist.Name\tGenre\tPopularity\n",
    "Senorita\tShawn Mendes\tcanadian pop\t79\n",
    "China\tAnuel AA\treggaeton flow\t92\n",
    "boyfriend (with Social House)\tAriana Grande\tdance pop\t85\n",
    "Beautiful People (feat. Khalid)\tEd Sheeran\tpop\tNaN\n",
    "Goodbyes (Feat. Young Thug)\tPost Malone\tdfw rap\t94\n",
    "I Don't Care (with Justin Bieber)\tEd Sheeran\tpop\t84\n",
    "Ransom\tLil Tecca\ttrap music\t92\n",
    "How Do You Sleep?\tSam Smith\tpop\t90\n",
    "Old Town Road - Remix\tLil Nas X\tcountry rap\t87\n",
    "bad guy\tBillie Eilish\telectropop\t95\n",
    "Callaita\tBad Bunny\treggaeton\t93\n",
    "Loco Contigo (feat. J. Balvin & Tyga)\tDJ Snake\tdance pop\t86\n",
    "Someone You Loved\tLewis Capaldi\tpop\t88\n",
    "Otro Trago - Remix\tSech\tpanamanian pop\t87\n",
    "Money In The Grave (Drake ft. Rick Ross)\tDrake\tcanadian hip hop\t92\n",
    "No Guidance (feat. Drake)\tChris Brown\tdance pop\t82\n",
    "LA CANCION\tJ Balvin\tlatin\t90\n",
    "Sunflower - Spider-Man: Into the Spider-Verse\tPost Malone\tdfw rap\t91\n",
    "Lalala\tY2K\tNaN\t88\n",
    "Truth Hurts\tLizzo\tescape room\t91\n",
    "Piece Of Your Heart\tMEDUZA\tpop house\t91\n",
    "Panini\tLil Nas X\tcountry rap\t91\n",
    "No Me Conoce - Remix\tJhay Cortez\treggaeton flow\t83\n",
    "Soltera - Remix\tLunay\tlatin\t91\n",
    "bad guy (with Justin Bieber)\tBillie Eilish\telectropop\tNaN"
   ]
  }
 ],
 "metadata": {
  "kernelspec": {
   "display_name": "venv",
   "language": "python",
   "name": "python3"
  },
  "language_info": {
   "name": "python",
   "version": "3.11.7"
  }
 },
 "nbformat": 4,
 "nbformat_minor": 2
}
