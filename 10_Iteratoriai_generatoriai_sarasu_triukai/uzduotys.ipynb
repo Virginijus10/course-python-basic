{
 "cells": [
  {
   "cell_type": "code",
   "execution_count": null,
   "metadata": {},
   "outputs": [],
   "source": [
    "skaiciai = [2, 4, 5, 8, 10, 15, 18]\n",
    "\n",
    "rezultatas = map(lambda x: x* 2, filter(lambda x: x> 10, skaiciai))\n",
    "print(list(rezultatas))"
   ]
  }
 ],
 "metadata": {
  "kernelspec": {
   "display_name": "venv",
   "language": "python",
   "name": "python3"
  },
  "language_info": {
   "name": "python",
   "version": "3.11.7"
  }
 },
 "nbformat": 4,
 "nbformat_minor": 2
}
