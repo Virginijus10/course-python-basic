{
 "cells": [
  {
   "cell_type": "code",
   "execution_count": null,
   "metadata": {},
   "outputs": [],
   "source": [
    "failas = open(\"labas.txt\", \"r\")\n",
    "for eilute in failas:\n",
    "    print(eilute, end=\"\")\n",
    "failas.close()"
   ]
  },
  {
   "cell_type": "code",
   "execution_count": null,
   "metadata": {},
   "outputs": [],
   "source": [
    "naujas_f = open(\"naujas.txt\", \"w\")\n",
    "\n",
    "naujas_f.close()"
   ]
  },
  {
   "cell_type": "code",
   "execution_count": null,
   "metadata": {},
   "outputs": [],
   "source": [
    "with open(\"datetime.ipynb\", \"r\") as dt_file:\n",
    "    for line in dt_file:\n",
    "        print(line, end=\"\")"
   ]
  },
  {
   "cell_type": "code",
   "execution_count": null,
   "metadata": {},
   "outputs": [],
   "source": [
    "with open(\"labas.txt\", \"r\") as labas_f:\n",
    "    print(type(labas_f))"
   ]
  },
  {
   "cell_type": "code",
   "execution_count": null,
   "metadata": {},
   "outputs": [],
   "source": [
    "with open(\"labas.txt\", \"r\") as labas_f:\n",
    "    line = labas_f.readline()\n",
    "    while len(line) > 0:\n",
    "        print(line, end='')\n",
    "        line = labas_f.readline()"
   ]
  },
  {
   "cell_type": "code",
   "execution_count": null,
   "metadata": {},
   "outputs": [],
   "source": [
    "with open(\"labas.txt\", \"r\") as labas_f:\n",
    "    lines = labas_f.readlines()\n",
    "    print(type(lines))\n",
    "    print(lines)"
   ]
  },
  {
   "cell_type": "code",
   "execution_count": null,
   "metadata": {},
   "outputs": [],
   "source": [
    "with open(\"labas.txt\", \"r\") as labas_f:\n",
    "    viskas = labas_f.read()\n",
    "    print(viskas)"
   ]
  },
  {
   "cell_type": "code",
   "execution_count": null,
   "metadata": {},
   "outputs": [],
   "source": [
    "with open(\"datetime.ipynb\", \"r\") as dt_file:\n",
    "    while True:\n",
    "        buffer = dt_file.read(100)\n",
    "        if not buffer:\n",
    "            break\n",
    "        print(buffer, end='')\n",
    "        print(len(buffer), buffer)"
   ]
  },
  {
   "cell_type": "code",
   "execution_count": 25,
   "metadata": {},
   "outputs": [
    {
     "name": "stdout",
     "output_type": "stream",
     "text": [
      "0\n",
      "100\n",
      "{\n",
      " \"cells\": [\n",
      "  {\n",
      "   \"cell_type\": \"code\",\n",
      "   \"execution_count\": 1,\n",
      "   \"metadata\": {},\n",
      "   \"outputs\": \n"
     ]
    }
   ],
   "source": [
    "with open(\"datetime.ipynb\", \"r\") as dt_file:\n",
    "    pozicija = dt_file.tell()\n",
    "    print(pozicija)\n",
    "    buffer = dt_file.read(100)\n",
    "    nauja_pozicija = dt_file.tell()\n",
    "    print(nauja_pozicija)\n",
    "    print(buffer)"
   ]
  },
  {
   "cell_type": "code",
   "execution_count": 26,
   "metadata": {},
   "outputs": [
    {
     "name": "stdout",
     "output_type": "stream",
     "text": [
      "150\n",
      "ution_count\": 1,\n",
      "   \"metadata\": {},\n",
      "   \"outputs\": [],\n",
      "   \"source\": [\n",
      "    \"from datetime import datet\n"
     ]
    }
   ],
   "source": [
    "with open(\"datetime.ipynb\", \"r\") as dt_file:\n",
    "    dt_file.seek(50)\n",
    "    buffer = dt_file.read(100)\n",
    "    nauja_pozicija = dt_file.tell()\n",
    "    print(nauja_pozicija)\n",
    "    print(buffer)"
   ]
  },
  {
   "cell_type": "code",
   "execution_count": 29,
   "metadata": {},
   "outputs": [
    {
     "name": "stdout",
     "output_type": "stream",
     "text": [
      "Sveiki, kaip sekasi?\n"
     ]
    }
   ],
   "source": [
    "with open(\"naujas.txt\", \"w\") as naujas_f:\n",
    "    naujas_f.write(\"Sveiki, kaip sekasi?\")\n",
    "with open(\"naujas.txt\", \"r\") as naujas_f:\n",
    "    rezultatas = naujas_f.read()\n",
    "    print(rezultatas)"
   ]
  },
  {
   "cell_type": "code",
   "execution_count": 31,
   "metadata": {},
   "outputs": [],
   "source": [
    "daiktai = [\"greblys\\n\", \"tankas\\n\", \"kibiras\\n\", \"akmuo\\n\"]\n",
    "with open(\"daiktai.txt\", \"w\") as daiktu_f:\n",
    "    daiktu_f.writelines(daiktai)\n"
   ]
  },
  {
   "cell_type": "code",
   "execution_count": 34,
   "metadata": {},
   "outputs": [
    {
     "name": "stdout",
     "output_type": "stream",
     "text": [
      "42\n"
     ]
    }
   ],
   "source": [
    "with open(\"daiktai.txt\", \"a\") as daiktu_f:\n",
    "    print(daiktu_f.tell())\n",
    "    # daiktu_f.write(\"dangtis\\n\")\n"
   ]
  },
  {
   "cell_type": "code",
   "execution_count": 39,
   "metadata": {},
   "outputs": [
    {
     "name": "stdout",
     "output_type": "stream",
     "text": [
      "Pradinis turinys:\n",
      " Poperius\n",
      "ankas\n",
      "kibiras\n",
      "akmuo\n",
      "dangtis\n",
      "\n",
      "\n",
      "Pakeistas:\n",
      " Poperiux\n",
      "ankas\n",
      "kibiras\n",
      "akmuo\n",
      "dangtis\n",
      "\n"
     ]
    }
   ],
   "source": [
    "with open(\"daiktai.txt\", \"r+\") as failas:\n",
    "    # Skaitymas\n",
    "    turinys = failas.read()\n",
    "    print(\"Pradinis turinys:\\n\", turinys)\n",
    "\n",
    "    # Rašymas\n",
    "    failas.seek(0)\n",
    "    failas.write(\"Poperiux\\n\")\n",
    "\n",
    "    failas.seek(0)\n",
    "    turinys = failas.read()\n",
    "    print(\"\\nPakeistas:\\n\", turinys)\n"
   ]
  },
  {
   "cell_type": "code",
   "execution_count": 42,
   "metadata": {},
   "outputs": [
    {
     "name": "stdout",
     "output_type": "stream",
     "text": [
      "18\n",
      "Poperiux\n",
      "Tankas\n",
      "kibaaaa\n",
      "akmuo\n",
      "dangtis\n",
      "\n"
     ]
    }
   ],
   "source": [
    "with open(\"daiktai.txt\", \"r+\") as failas:\n",
    "    visi = failas.read()\n",
    "    kur_kibiras = visi.find(\"kibiras\") + visi.count(\"\\n\", 0, visi.find(\"kibiras\"))\n",
    "    print(kur_kibiras)\n",
    "    failas.seek(kur_kibiras + 3)\n",
    "    failas.write(\"aaaa\")\n",
    "    failas.seek(0)\n",
    "    visi = failas.read()\n",
    "    print(visi)"
   ]
  }
 ],
 "metadata": {
  "kernelspec": {
   "display_name": "venv",
   "language": "python",
   "name": "python3"
  },
  "language_info": {
   "codemirror_mode": {
    "name": "ipython",
    "version": 3
   },
   "file_extension": ".py",
   "mimetype": "text/x-python",
   "name": "python",
   "nbconvert_exporter": "python",
   "pygments_lexer": "ipython3",
   "version": "3.11.7"
  }
 },
 "nbformat": 4,
 "nbformat_minor": 2
}
